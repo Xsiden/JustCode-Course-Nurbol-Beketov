{
 "cells": [
  {
   "cell_type": "code",
   "execution_count": 115,
   "id": "b487526b-b9b6-4aed-aa9c-21ab0d8e3b66",
   "metadata": {},
   "outputs": [],
   "source": [
    "class Finance:\n",
    "    def __init__(self, month_sum, remain_sum):\n",
    "        try:\n",
    "            self.remain_sum = remain_sum\n",
    "            self.month_sum = month_sum\n",
    "            self.income_list = []\n",
    "            self.spending_list = []\n",
    "            self.income = 0\n",
    "            self.spending = 0\n",
    "        except TypeError:\n",
    "            print('Нужно ввести число, а не текст')\n",
    "\n",
    "                  \n",
    "    def add_income(self, amount, day):\n",
    "        try:\n",
    "            self.income += amount         \n",
    "            self.income_list.append({day: amount})\n",
    "        except TypeError:\n",
    "            print('Нужно ввести число, а не текст')\n",
    "        \n",
    "    def add_spending(self, amount, day):\n",
    "        try:\n",
    "            self.spending += amount\n",
    "            self.spending_list.append({day: amount})\n",
    "        except TypeError:\n",
    "            print('Нужно ввести число, а не текст') \n",
    "\n",
    "\n",
    "    def display_short_balans(self):\n",
    "        print('Выделенная сумма на месяц', '\\n', self.month_sum)\n",
    "        print('Доходы за месяц', '\\n', self.income)\n",
    "        print ('Расходы за месяц', '\\n', self.spending)\n",
    "        \n",
    "    def money_status(self):\n",
    "        self.month_wallet = (self.month_sum + self.income) - self.spending\n",
    "        if self.month_wallet > 0:\n",
    "            print('Доступная в этом месяце сумма', '\\n', self.month_wallet)\n",
    "        elif self.month_sum + self.income < self.spending:\n",
    "            print('Превышение месячного плана на', abs(self.month_wallet), 'и вычет этой суммы из годового остатка.')\n",
    "        else:\n",
    "            print('Деньги для этого месяца закончились')\n",
    "            \n",
    "    def balans(self):\n",
    "        self.month_wallet = (self.month_sum + self.income) - self.spending\n",
    "        print('Доходы за месяц', '\\n', self.income)\n",
    "        print('Список пополнений', '\\n', self.income_list)\n",
    "        print('\\n')\n",
    "        print ('Расходы за месяц', '\\n', self.spending)\n",
    "        print('Список снятий', '\\n', self.spending_list)\n",
    "        print('\\n')\n",
    "        if self.month_wallet > 0:\n",
    "            print('Доступная в этом месяце сумма', '\\n', self.month_wallet)\n",
    "        elif self.month_sum + self.income < self.spending:\n",
    "            print('Превышение месячного плана на', abs(self.month_wallet), 'и вычет этой суммы из годового остатка.')\n",
    "            print('Годовая сумма:', self.remain_sum - abs(self.month_wallet))\n",
    "\n",
    "        else:\n",
    "            print('Деньги для этого месяца закончились')"
   ]
  },
  {
   "cell_type": "code",
   "execution_count": 117,
   "id": "bfa35fb7-0026-44fb-8d91-b339a0f571aa",
   "metadata": {},
   "outputs": [],
   "source": [
    "jan_sp = Finance(1000, 11000)"
   ]
  },
  {
   "cell_type": "code",
   "execution_count": 131,
   "id": "78cc0d1e-8fa3-4c06-b2e1-3f50c1ae8128",
   "metadata": {},
   "outputs": [],
   "source": [
    "jan_sp.add_income(500, 23)"
   ]
  },
  {
   "cell_type": "code",
   "execution_count": 135,
   "id": "f5421633-cbc6-4bc5-af94-16bf05cb8a99",
   "metadata": {},
   "outputs": [],
   "source": [
    "jan_sp.add_spending(500, 25)"
   ]
  },
  {
   "cell_type": "code",
   "execution_count": 125,
   "id": "6b9d3ade-4423-48ac-a427-f183475ab45d",
   "metadata": {},
   "outputs": [
    {
     "name": "stdout",
     "output_type": "stream",
     "text": [
      "Выделенная сумма на месяц \n",
      " 1000\n",
      "Доходы за месяц \n",
      " 500\n",
      "Расходы за месяц \n",
      " 500\n"
     ]
    }
   ],
   "source": [
    "jan_sp.display_short_balans()"
   ]
  },
  {
   "cell_type": "code",
   "execution_count": 127,
   "id": "cc72fbcb-5881-43e1-ac05-074e17ccbe26",
   "metadata": {},
   "outputs": [
    {
     "name": "stdout",
     "output_type": "stream",
     "text": [
      "Доступная в этом месяце сумма \n",
      " 1000\n"
     ]
    }
   ],
   "source": [
    "jan_sp.money_status()"
   ]
  },
  {
   "cell_type": "code",
   "execution_count": 137,
   "id": "059c8b75-2ff4-479b-a4f5-ef2432481490",
   "metadata": {},
   "outputs": [
    {
     "name": "stdout",
     "output_type": "stream",
     "text": [
      "Доходы за месяц \n",
      " 1000\n",
      "Список пополнений \n",
      " [{53: 500}, {23: 500}]\n",
      "\n",
      "\n",
      "Расходы за месяц \n",
      " 1000\n",
      "Список снятий \n",
      " [{25: 500}, {25: 500}]\n",
      "\n",
      "\n",
      "Доступная в этом месяце сумма \n",
      " 1000\n"
     ]
    }
   ],
   "source": [
    "jan_sp.balans()"
   ]
  },
  {
   "cell_type": "code",
   "execution_count": null,
   "id": "4265600a-0ef6-4a72-a6e8-77d79b9494b7",
   "metadata": {},
   "outputs": [],
   "source": []
  },
  {
   "cell_type": "code",
   "execution_count": null,
   "id": "678e987e-03c7-4646-8135-9df161a676ce",
   "metadata": {},
   "outputs": [],
   "source": []
  },
  {
   "cell_type": "code",
   "execution_count": null,
   "id": "2a299d20-dd67-44ca-b0fb-82f72fcc4c26",
   "metadata": {},
   "outputs": [],
   "source": []
  },
  {
   "cell_type": "code",
   "execution_count": null,
   "id": "7f95e687-cc5c-499b-8c97-b64101cd9277",
   "metadata": {},
   "outputs": [],
   "source": []
  },
  {
   "cell_type": "code",
   "execution_count": null,
   "id": "8c603f63-134c-46ed-8d74-5d1920bdca85",
   "metadata": {},
   "outputs": [],
   "source": []
  },
  {
   "cell_type": "code",
   "execution_count": null,
   "id": "218ab7b8-fec1-4a83-acd4-72f8eade7a4f",
   "metadata": {},
   "outputs": [],
   "source": []
  },
  {
   "cell_type": "code",
   "execution_count": null,
   "id": "c3cbdd7c-9934-46f5-944f-c116e360a282",
   "metadata": {},
   "outputs": [],
   "source": []
  },
  {
   "cell_type": "code",
   "execution_count": null,
   "id": "ac1dab70-6350-44aa-9462-58413a5b2e54",
   "metadata": {},
   "outputs": [],
   "source": []
  }
 ],
 "metadata": {
  "kernelspec": {
   "display_name": "Python 3 (ipykernel)",
   "language": "python",
   "name": "python3"
  },
  "language_info": {
   "codemirror_mode": {
    "name": "ipython",
    "version": 3
   },
   "file_extension": ".py",
   "mimetype": "text/x-python",
   "name": "python",
   "nbconvert_exporter": "python",
   "pygments_lexer": "ipython3",
   "version": "3.12.4"
  }
 },
 "nbformat": 4,
 "nbformat_minor": 5
}
