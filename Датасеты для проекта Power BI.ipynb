{
 "cells": [
  {
   "cell_type": "code",
   "execution_count": 1,
   "id": "56b6d2cc-e850-4de2-9b4a-80d89a6375f4",
   "metadata": {},
   "outputs": [
    {
     "name": "stdout",
     "output_type": "stream",
     "text": [
      "Defaulting to user installation because normal site-packages is not writeable\n",
      "Requirement already satisfied: psycopg2 in c:\\users\\nurbo\\appdata\\roaming\\python\\python312\\site-packages (2.9.10)\n"
     ]
    }
   ],
   "source": [
    "! pip install psycopg2"
   ]
  },
  {
   "cell_type": "code",
   "execution_count": 2,
   "id": "bda3cd27-1daf-4405-a37e-f2eeb90bc6bc",
   "metadata": {},
   "outputs": [],
   "source": [
    "import psycopg2\n",
    "from psycopg2 import sql\n",
    "import pandas as pd\n",
    "from sqlalchemy import create_engine\n",
    "import datetime\n",
    "from datetime import timedelta\n",
    "import random"
   ]
  },
  {
   "cell_type": "code",
   "execution_count": 65,
   "id": "e5f5c83e-ade5-4bee-ac5e-5a55f6c398bc",
   "metadata": {},
   "outputs": [
    {
     "name": "stdout",
     "output_type": "stream",
     "text": [
      "   Purchase ID  Store  Purchase_Amount Product_Category        Date\n",
      "0        84952      7            60.57      Electronics  2020-10-26\n",
      "1        45871      1           297.51  Health & Beauty  2022-08-31\n",
      "2        60150      6           365.29      Electronics  2021-12-12\n",
      "3        60007      3           132.99  Health & Beauty  2022-07-19\n",
      "4        26382      1           134.38        Groceries  2022-12-18\n",
      "no dublicates\n"
     ]
    }
   ],
   "source": [
    "#random.seed(42)\n",
    "\n",
    "product_categories = ['Electronics', 'Clothing', 'Health & Beauty', 'Furniture', 'Groceries']\n",
    "start_date = datetime.date(2020, 1, 1)\n",
    "end_date = datetime.date(2022, 12, 31)\n",
    "\n",
    "data = []\n",
    "purchase_id_coll = []\n",
    "\n",
    "\n",
    "for purchase_id in range(2500):\n",
    "    purchase_id = random.randint(10000, 90000)\n",
    "    \n",
    "    if purchase_id not in purchase_id_coll:\n",
    "        purchase_id_coll.append(purchase_id)\n",
    "    else:\n",
    "        continue\n",
    "\n",
    "\n",
    "    \n",
    "    \n",
    "    store = random.randint(1,8)\n",
    "    purchase_amount = round(random.uniform(50, 500), 2)\n",
    "    product_category = random.choice(product_categories)\n",
    "    \n",
    "    num_days   = (end_date - start_date).days\n",
    "    rand_days   = random.randint(1, num_days)\n",
    "    random_date = start_date + datetime.timedelta(days=rand_days)\n",
    "\n",
    "    data.append([purchase_id, store, purchase_amount, product_category, random_date])\n",
    "\n",
    "\n",
    "df1 = pd.DataFrame(data, columns=['Purchase ID', 'Store', 'Purchase_Amount', 'Product_Category', 'Date'])\n",
    "\n",
    "\n",
    "\n",
    "df1.to_csv('walmart_purch_info.csv', index=False)\n",
    "\n",
    "print(df1.head())\n",
    "\n",
    "if len(purchase_id_coll) == len(set(purchase_id_coll)):\n",
    "    print('no dublicates')\n"
   ]
  },
  {
   "cell_type": "code",
   "execution_count": 66,
   "id": "f5154c21-c1ed-40be-8c9d-cd0fbbacd956",
   "metadata": {},
   "outputs": [],
   "source": [
    "db_url = \"postgresql+psycopg2://postgres:1@localhost:5432/postgres\""
   ]
  },
  {
   "cell_type": "code",
   "execution_count": 67,
   "id": "80b043a7-ee93-4b12-8fcf-79152249b2f3",
   "metadata": {},
   "outputs": [],
   "source": [
    "engine = create_engine(db_url)"
   ]
  },
  {
   "cell_type": "code",
   "execution_count": 69,
   "id": "a4dab1f0-c060-4996-87dd-8be892795b45",
   "metadata": {},
   "outputs": [
    {
     "data": {
      "text/plain": [
       "455"
      ]
     },
     "execution_count": 69,
     "metadata": {},
     "output_type": "execute_result"
    }
   ],
   "source": [
    "df1.to_sql('walmart_purch_info', engine, if_exists='append', index=False)"
   ]
  },
  {
   "cell_type": "code",
   "execution_count": 1,
   "id": "ebbee627-26c2-4bd2-81ac-7f8915d7e5bc",
   "metadata": {},
   "outputs": [
    {
     "ename": "NameError",
     "evalue": "name 'random' is not defined",
     "output_type": "error",
     "traceback": [
      "\u001b[1;31m---------------------------------------------------------------------------\u001b[0m",
      "\u001b[1;31mNameError\u001b[0m                                 Traceback (most recent call last)",
      "Cell \u001b[1;32mIn[1], line 1\u001b[0m\n\u001b[1;32m----> 1\u001b[0m random\u001b[38;5;241m.\u001b[39mseed(\u001b[38;5;241m42\u001b[39m)\n\u001b[0;32m      3\u001b[0m occupation_categories \u001b[38;5;241m=\u001b[39m [\u001b[38;5;124m'\u001b[39m\u001b[38;5;124mblue collar\u001b[39m\u001b[38;5;124m'\u001b[39m, \u001b[38;5;124m'\u001b[39m\u001b[38;5;124mwhite collar\u001b[39m\u001b[38;5;124m'\u001b[39m, \u001b[38;5;124m'\u001b[39m\u001b[38;5;124mentrepreneur\u001b[39m\u001b[38;5;124m'\u001b[39m, \u001b[38;5;124m'\u001b[39m\u001b[38;5;124munemployed\u001b[39m\u001b[38;5;124m'\u001b[39m]\n\u001b[0;32m      4\u001b[0m area_list \u001b[38;5;241m=\u001b[39m [\u001b[38;5;124m'\u001b[39m\u001b[38;5;124murban\u001b[39m\u001b[38;5;124m'\u001b[39m, \u001b[38;5;124m'\u001b[39m\u001b[38;5;124msuburban\u001b[39m\u001b[38;5;124m'\u001b[39m, \u001b[38;5;124m'\u001b[39m\u001b[38;5;124mrural\u001b[39m\u001b[38;5;124m'\u001b[39m]\n",
      "\u001b[1;31mNameError\u001b[0m: name 'random' is not defined"
     ]
    }
   ],
   "source": [
    "#random.seed(42)\n",
    "\n",
    "occupation_categories = ['blue collar', 'white collar', 'entrepreneur', 'unemployed']\n",
    "area_list = ['urban', 'suburban', 'rural']\n",
    "\n",
    "\n",
    "data = []\n",
    "for customer_id in range(1, 2462):\n",
    "    age = random.randint(18, 70)\n",
    "    occupation_category = random.choice(occupation_categories)\n",
    "    salary = round(random.uniform(1000, 10000), 2)\n",
    "    living_area = random.choice(area_list)\n",
    "    data.append([customer_id, age, occupation_category, salary, living_area])\n",
    "\n",
    "df2 = pd.DataFrame(data, columns=['Customer ID', 'Age', 'Occupation Category', 'Salary', 'Area'])\n",
    "\n",
    "df2.to_csv('walmart_cust_info.csv', index=False)\n",
    "\n",
    "print(df2.head())\n",
    "print(len(data))"
   ]
  },
  {
   "cell_type": "code",
   "execution_count": 71,
   "id": "258558d7-9ae6-4c2e-8fe4-a4308f230e02",
   "metadata": {},
   "outputs": [
    {
     "data": {
      "text/plain": [
       "461"
      ]
     },
     "execution_count": 71,
     "metadata": {},
     "output_type": "execute_result"
    }
   ],
   "source": [
    "df2.to_sql('walmart_cust_info', engine, if_exists='append', index=False)"
   ]
  },
  {
   "cell_type": "code",
   "execution_count": 72,
   "id": "f5c235d5-aeef-4222-920d-4ea13098f554",
   "metadata": {},
   "outputs": [
    {
     "name": "stdout",
     "output_type": "stream",
     "text": [
      "   Purchase ID  Customer ID\n",
      "0        10037          469\n",
      "1        10038         2286\n",
      "2        10039          251\n",
      "3        10040         1982\n",
      "4        10041         1675\n",
      "79960\n"
     ]
    }
   ],
   "source": [
    "#random.seed(42)\n",
    "\n",
    "data = []\n",
    "for purchase_id in range(10037, 89997):\n",
    "    customer_id = \n",
    "    data.append([purchase_id, customer_id])\n",
    "\n",
    "df3 = pd.DataFrame(data, columns=['Purchase ID', 'Customer ID'])\n",
    "\n",
    "df3.to_csv('walmart_purch_customer.csv', index=False)\n",
    "print(df3.head())\n",
    "print(len(data))"
   ]
  },
  {
   "cell_type": "code",
   "execution_count": 73,
   "id": "e4cabbc6-33bc-43dd-9892-09f7719a776a",
   "metadata": {},
   "outputs": [
    {
     "data": {
      "text/plain": [
       "960"
      ]
     },
     "execution_count": 73,
     "metadata": {},
     "output_type": "execute_result"
    }
   ],
   "source": [
    "df3.to_sql('walmart_purch_customer', engine, if_exists='append', index=False)"
   ]
  },
  {
   "cell_type": "code",
   "execution_count": null,
   "id": "bb9a620f-701e-4625-ab9c-cc877d20ca95",
   "metadata": {},
   "outputs": [],
   "source": []
  },
  {
   "cell_type": "code",
   "execution_count": null,
   "id": "77c384ea-462a-46b7-b72e-ffec017bc486",
   "metadata": {},
   "outputs": [],
   "source": [
    "\n"
   ]
  }
 ],
 "metadata": {
  "kernelspec": {
   "display_name": "Python 3 (ipykernel)",
   "language": "python",
   "name": "python3"
  },
  "language_info": {
   "codemirror_mode": {
    "name": "ipython",
    "version": 3
   },
   "file_extension": ".py",
   "mimetype": "text/x-python",
   "name": "python",
   "nbconvert_exporter": "python",
   "pygments_lexer": "ipython3",
   "version": "3.12.4"
  }
 },
 "nbformat": 4,
 "nbformat_minor": 5
}
